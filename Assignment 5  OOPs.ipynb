{
 "cells": [
  {
   "cell_type": "code",
   "execution_count": 12,
   "id": "6d14d5d9",
   "metadata": {},
   "outputs": [],
   "source": [
    "#Question 1.\n",
    "#Write a Python class to implement pow(x, n).\n",
    "#Solution.\n",
    "\n",
    "class power:\n",
    "    def __init__(self,x,n):\n",
    "        print(x**n)"
   ]
  },
  {
   "cell_type": "code",
   "execution_count": 4,
   "id": "a5939c8b",
   "metadata": {},
   "outputs": [
    {
     "name": "stdout",
     "output_type": "stream",
     "text": [
      "100\n"
     ]
    }
   ],
   "source": [
    "obj1 = power(10,2)"
   ]
  },
  {
   "cell_type": "code",
   "execution_count": 7,
   "id": "7f79df2a",
   "metadata": {},
   "outputs": [
    {
     "name": "stdout",
     "output_type": "stream",
     "text": [
      "0\n"
     ]
    }
   ],
   "source": [
    "obj2 = power(0,6)"
   ]
  },
  {
   "cell_type": "code",
   "execution_count": 8,
   "id": "c6f59d89",
   "metadata": {},
   "outputs": [
    {
     "name": "stdout",
     "output_type": "stream",
     "text": [
      "256\n"
     ]
    }
   ],
   "source": [
    "obj3 = power(-4,4)"
   ]
  },
  {
   "cell_type": "code",
   "execution_count": 11,
   "id": "dda2bfec",
   "metadata": {},
   "outputs": [
    {
     "name": "stdout",
     "output_type": "stream",
     "text": [
      "0.0009765625\n"
     ]
    }
   ],
   "source": [
    "obj4 = power(4,-5)"
   ]
  },
  {
   "cell_type": "code",
   "execution_count": null,
   "id": "83cb1b28",
   "metadata": {},
   "outputs": [],
   "source": []
  }
 ],
 "metadata": {
  "kernelspec": {
   "display_name": "Python 3 (ipykernel)",
   "language": "python",
   "name": "python3"
  },
  "language_info": {
   "codemirror_mode": {
    "name": "ipython",
    "version": 3
   },
   "file_extension": ".py",
   "mimetype": "text/x-python",
   "name": "python",
   "nbconvert_exporter": "python",
   "pygments_lexer": "ipython3",
   "version": "3.9.6"
  }
 },
 "nbformat": 4,
 "nbformat_minor": 5
}
