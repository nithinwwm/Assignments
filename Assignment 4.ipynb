{
 "cells": [
  {
   "cell_type": "code",
   "execution_count": 13,
   "id": "c87de1a2",
   "metadata": {},
   "outputs": [],
   "source": [
    "#Question 1\n",
    "#Write a Python program to create a lambda function that adds 25 to a given number passed in as an argument.\n",
    "#Solution\n",
    "\n",
    "fun1 = lambda x : x + 15"
   ]
  },
  {
   "cell_type": "code",
   "execution_count": 14,
   "id": "94cf3139",
   "metadata": {},
   "outputs": [
    {
     "data": {
      "text/plain": [
       "25"
      ]
     },
     "execution_count": 14,
     "metadata": {},
     "output_type": "execute_result"
    }
   ],
   "source": [
    "fun1(10)"
   ]
  },
  {
   "cell_type": "code",
   "execution_count": 16,
   "id": "b7b751b7",
   "metadata": {},
   "outputs": [
    {
     "name": "stdout",
     "output_type": "stream",
     "text": [
      "[3, 6, 9, 12, 15, 18, 21]\n"
     ]
    }
   ],
   "source": [
    "#Question 2\n",
    "#Write a Python program to triple all numbers of a given list of integers. Use Python map.\n",
    "#Solution\n",
    "\n",
    "list1 = [1,2,3,4,5,6,7]\n",
    "fun2  = list(map(lambda x : x+x+x,list1))\n",
    "print(fun2)"
   ]
  },
  {
   "cell_type": "code",
   "execution_count": 17,
   "id": "621b85d7",
   "metadata": {},
   "outputs": [
    {
     "name": "stdout",
     "output_type": "stream",
     "text": [
      "[16, 25, 4, 81]\n"
     ]
    }
   ],
   "source": [
    "#Question 3\n",
    "#Write a Python program to square the elements of a list using map() function.\n",
    "#Solution\n",
    "\n",
    "list2 = [4, 5, 2, 9]\n",
    "def fun3(x):\n",
    "    return x*x\n",
    "print(list(map(fun3,list2)))"
   ]
  },
  {
   "cell_type": "code",
   "execution_count": null,
   "id": "edc54350",
   "metadata": {},
   "outputs": [],
   "source": []
  }
 ],
 "metadata": {
  "kernelspec": {
   "display_name": "Python 3 (ipykernel)",
   "language": "python",
   "name": "python3"
  },
  "language_info": {
   "codemirror_mode": {
    "name": "ipython",
    "version": 3
   },
   "file_extension": ".py",
   "mimetype": "text/x-python",
   "name": "python",
   "nbconvert_exporter": "python",
   "pygments_lexer": "ipython3",
   "version": "3.9.6"
  }
 },
 "nbformat": 4,
 "nbformat_minor": 5
}
