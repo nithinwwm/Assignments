{
 "cells": [
  {
   "cell_type": "code",
   "execution_count": 1,
   "id": "2ae63202",
   "metadata": {},
   "outputs": [
    {
     "name": "stdout",
     "output_type": "stream",
     "text": [
      "HACK 2\n",
      "A\n",
      "C\n",
      "H\n",
      "K\n",
      "AC\n",
      "AH\n",
      "AK\n",
      "CH\n",
      "CK\n",
      "HK\n"
     ]
    }
   ],
   "source": [
    "#Question 1.\n",
    "#You are given a string s .\n",
    "#Your task is to print all possible combinations, up to size k , of the string in lexicographic sorted order.\n",
    "#Solution.\n",
    "\n",
    "from itertools import combinations\n",
    "\n",
    "io = input().split()\n",
    "S = io[0]\n",
    "k = int(io[1])\n",
    "for i in range(1,k+1):\n",
    "    for j in combinations(sorted(S),i):\n",
    "        print(\"\".join(j))"
   ]
  },
  {
   "cell_type": "code",
   "execution_count": 2,
   "id": "b2faa9f9",
   "metadata": {},
   "outputs": [
    {
     "name": "stdout",
     "output_type": "stream",
     "text": [
      "1 2\n",
      "3 4\n",
      "(1, 3) (1, 4) (2, 3) (2, 4) "
     ]
    }
   ],
   "source": [
    "#Question 2.\n",
    "#You are given a two lists A and B. Your task is to compute their cartesian product AXB.\n",
    "#SOLUTION.\n",
    "\n",
    "from itertools import product\n",
    "a = input().split()\n",
    "b = input().split()\n",
    "a = list(map(int,a))\n",
    "b = list(map(int,b))\n",
    "result = list(product(a,b))\n",
    "for i in result:\n",
    "    print(i, end=' ')"
   ]
  },
  {
   "cell_type": "code",
   "execution_count": 15,
   "id": "2076c0e8",
   "metadata": {},
   "outputs": [
    {
     "name": "stdout",
     "output_type": "stream",
     "text": [
      "HACK 2\n",
      "AC\n",
      "AH\n",
      "AK\n",
      "CA\n",
      "CH\n",
      "CK\n",
      "HA\n",
      "HC\n",
      "HK\n",
      "KA\n",
      "KC\n",
      "KH\n"
     ]
    }
   ],
   "source": [
    "#Question 3.\n",
    "#You are given a string .\n",
    "#Your task is to print all possible permutations of size  of the string in lexicographic sorted order.\n",
    "#Solution.\n",
    "\n",
    "from itertools import permutations\n",
    "xO = input().split()\n",
    "y = xO[0]\n",
    "z = int(xO[1])\n",
    "result = list(permutations(y,z))\n",
    "for i in sorted(result):\n",
    "    print(''.join(i))"
   ]
  },
  {
   "cell_type": "code",
   "execution_count": null,
   "id": "8b481c99",
   "metadata": {},
   "outputs": [],
   "source": []
  }
 ],
 "metadata": {
  "kernelspec": {
   "display_name": "Python 3 (ipykernel)",
   "language": "python",
   "name": "python3"
  },
  "language_info": {
   "codemirror_mode": {
    "name": "ipython",
    "version": 3
   },
   "file_extension": ".py",
   "mimetype": "text/x-python",
   "name": "python",
   "nbconvert_exporter": "python",
   "pygments_lexer": "ipython3",
   "version": "3.9.6"
  }
 },
 "nbformat": 4,
 "nbformat_minor": 5
}
