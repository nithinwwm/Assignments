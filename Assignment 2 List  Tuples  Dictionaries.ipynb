{
 "cells": [
  {
   "cell_type": "code",
   "execution_count": 9,
   "id": "5cebfea5",
   "metadata": {},
   "outputs": [
    {
     "name": "stdout",
     "output_type": "stream",
     "text": [
      "[(2, 1), (1, 2), (2, 3), (4, 4), (2, 5)]\n"
     ]
    }
   ],
   "source": [
    "#QUESTION 1\n",
    "#Write a Python program to get a list, sorted in increasing order by the last element in each \n",
    "#tuple from a given list of non-empty tuples\n",
    "\n",
    "\n",
    "def fun1(x):\n",
    "    return x[-1]\n",
    "\n",
    "def fun2(y):\n",
    "    return sorted(y, key=fun1)\n",
    "\n",
    "z = [(2, 5), (1, 2), (4, 4), (2, 3), (2, 1)]\n",
    "print(sort(z))"
   ]
  },
  {
   "cell_type": "code",
   "execution_count": 12,
   "id": "edc8e392",
   "metadata": {},
   "outputs": [
    {
     "name": "stdout",
     "output_type": "stream",
     "text": [
      "{'a': 97, 'b': 98, 'c': 99, 'd': 100, 'e': 101, 'f': 102, 'g': 103, 'h': 104, 'i': 105, 'j': 106, 'k': 107, 'l': 108, 'm': 109, 'n': 110, 'o': 111, 'p': 112, 'q': 113, 'r': 114, 's': 115, 't': 116, 'u': 117, 'v': 118, 'w': 119, 'x': 120, 'y': 121, 'z': 122}\n"
     ]
    }
   ],
   "source": [
    "#QUESTION 2\n",
    "#SOLUTION 1\n",
    "#Write a Python program to print a dictionary whose keys should be the alphabet from a-z and the value should\n",
    "#be corresponding ASCII values.\n",
    "\n",
    "dict1 = range(97,123)\n",
    "dict2 = {}\n",
    "for i in dict1:\n",
    "    dict2[chr(i)] = i\n",
    "print(dict2)\n",
    "    "
   ]
  },
  {
   "cell_type": "code",
   "execution_count": 14,
   "id": "46ffe5e8",
   "metadata": {},
   "outputs": [
    {
     "name": "stdout",
     "output_type": "stream",
     "text": [
      "{'97': 'a', '98': 'b', '99': 'c', '100': 'd', '101': 'e', '102': 'f', '103': 'g', '104': 'h', '105': 'i', '106': 'j', '107': 'k', '108': 'l', '109': 'm', '110': 'n', '111': 'o', '112': 'p', '113': 'q', '114': 'r', '115': 's', '116': 't', '117': 'u', '118': 'v', '119': 'w', '120': 'x', '121': 'y', '122': 'z'}\n"
     ]
    }
   ],
   "source": [
    "#QUESTION 2\n",
    "#SOLUTION 2\n",
    "\n",
    "dict1 = range(97,123)\n",
    "dict2 = {}\n",
    "for i in dict1:\n",
    "    dict2[str(i)] = chr(i)\n",
    "print(dict2)"
   ]
  },
  {
   "cell_type": "code",
   "execution_count": null,
   "id": "9ba6f385",
   "metadata": {},
   "outputs": [],
   "source": []
  }
 ],
 "metadata": {
  "kernelspec": {
   "display_name": "Python 3 (ipykernel)",
   "language": "python",
   "name": "python3"
  },
  "language_info": {
   "codemirror_mode": {
    "name": "ipython",
    "version": 3
   },
   "file_extension": ".py",
   "mimetype": "text/x-python",
   "name": "python",
   "nbconvert_exporter": "python",
   "pygments_lexer": "ipython3",
   "version": "3.9.6"
  }
 },
 "nbformat": 4,
 "nbformat_minor": 5
}
