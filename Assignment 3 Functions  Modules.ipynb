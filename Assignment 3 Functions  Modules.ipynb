{
 "cells": [
  {
   "cell_type": "code",
   "execution_count": 14,
   "id": "5f1a4102",
   "metadata": {},
   "outputs": [
    {
     "name": "stdout",
     "output_type": "stream",
     "text": [
      "20\n"
     ]
    }
   ],
   "source": [
    "#QUESTION 1\n",
    "#Write a Python function to sum all the numbers in a list.\n",
    "#SOLUTION \n",
    "\n",
    "def fun1(list):\n",
    "    sum_of_numbers = 0\n",
    "    for i in list:\n",
    "        sum_of_numbers += i\n",
    "    return sum_of_numbers\n",
    "\n",
    "print(fun1((8, 2, 3, 0, 7)))"
   ]
  },
  {
   "cell_type": "code",
   "execution_count": 16,
   "id": "5cb71314",
   "metadata": {},
   "outputs": [
    {
     "data": {
      "text/plain": [
       "111"
      ]
     },
     "execution_count": 16,
     "metadata": {},
     "output_type": "execute_result"
    }
   ],
   "source": [
    "fun1((4,5,9,5,34,54))"
   ]
  },
  {
   "cell_type": "code",
   "execution_count": 27,
   "id": "f7287e31",
   "metadata": {},
   "outputs": [],
   "source": [
    "#QUESTION 2\n",
    "#Write a Python program to reverse a string.\n",
    "#SOLUTION \n",
    "\n",
    "def fun2(string):\n",
    "    string2 = string[::-1]\n",
    "    return string2"
   ]
  },
  {
   "cell_type": "code",
   "execution_count": 25,
   "id": "7f47cb24",
   "metadata": {},
   "outputs": [
    {
     "data": {
      "text/plain": [
       "'dcba4321'"
      ]
     },
     "execution_count": 25,
     "metadata": {},
     "output_type": "execute_result"
    }
   ],
   "source": [
    "fun2('abcd1234')"
   ]
  },
  {
   "cell_type": "code",
   "execution_count": 28,
   "id": "17b12374",
   "metadata": {},
   "outputs": [
    {
     "data": {
      "text/plain": [
       "'7859nairoterP'"
      ]
     },
     "execution_count": 28,
     "metadata": {},
     "output_type": "execute_result"
    }
   ],
   "source": [
    "fun2('Pretorian9587')"
   ]
  },
  {
   "cell_type": "code",
   "execution_count": 42,
   "id": "5dfa6d30",
   "metadata": {},
   "outputs": [],
   "source": [
    "#QUESTION 3\n",
    "#Write a Python function that accepts a string and calculate the number of upper case letters and lower case letters.\n",
    "#SOLUTION\n",
    "\n",
    "def fun3(string):\n",
    "    upper_case_letter = 0\n",
    "    lower_case_letter = 0\n",
    "    for i in string:\n",
    "        if i.isupper():\n",
    "            upper_case_letter += 1\n",
    "        else:\n",
    "            lower_case_letter += 1\n",
    "    print('No. of Upper case characters :',upper_case_letter)\n",
    "    print('No. of Lower case Characters :',lower_case_letter)"
   ]
  },
  {
   "cell_type": "code",
   "execution_count": 44,
   "id": "7d9cc569",
   "metadata": {},
   "outputs": [
    {
     "name": "stdout",
     "output_type": "stream",
     "text": [
      "No. of Upper case characters : 3\n",
      "No. of Lower case Characters : 15\n"
     ]
    }
   ],
   "source": [
    "fun3('The quick Brow Fox')"
   ]
  },
  {
   "cell_type": "code",
   "execution_count": 45,
   "id": "8ef70226",
   "metadata": {},
   "outputs": [
    {
     "name": "stdout",
     "output_type": "stream",
     "text": [
      "No. of Upper case characters : 6\n",
      "No. of Lower case Characters : 5\n"
     ]
    }
   ],
   "source": [
    "fun3('EdyodaROCKS')"
   ]
  },
  {
   "cell_type": "code",
   "execution_count": null,
   "id": "5d297d6f",
   "metadata": {},
   "outputs": [],
   "source": []
  }
 ],
 "metadata": {
  "kernelspec": {
   "display_name": "Python 3 (ipykernel)",
   "language": "python",
   "name": "python3"
  },
  "language_info": {
   "codemirror_mode": {
    "name": "ipython",
    "version": 3
   },
   "file_extension": ".py",
   "mimetype": "text/x-python",
   "name": "python",
   "nbconvert_exporter": "python",
   "pygments_lexer": "ipython3",
   "version": "3.9.6"
  }
 },
 "nbformat": 4,
 "nbformat_minor": 5
}
