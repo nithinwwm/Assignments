{
 "cells": [
  {
   "cell_type": "code",
   "execution_count": null,
   "id": "46863c74",
   "metadata": {},
   "outputs": [],
   "source": [
    "#Q1. Write a program to find all pairs of an integer array whose sum is equal to a given number?\n",
    "\n",
    "#Q2. Write a program to reverse an array in place? In place means you cannot create a new array. You have to update the original array.\n",
    "\n",
    "#Q3. Write a program to check if two strings are a rotation of each other?\n",
    "\n",
    "#Q4. Write a program to print the first non-repeated character from a string?\n",
    "\n",
    "#Q5. Read about the Tower of Hanoi algorithm. Write a program to implement it.\n",
    "\n",
    "#Q6. Read about infix, prefix, and postfix expressions. Write a program to convert postfix to prefix expression.\n",
    "\n",
    "#Q7. Write a program to convert prefix expression to infix expression.\n",
    "\n",
    "#Q8. Write a program to check if all the brackets are closed in a given code snippet.\n",
    "\n",
    "#Q9. Write a program to reverse a stack.\n",
    "\n",
    "#Q10. Write a program to find the smallest number using a stack."
   ]
  },
  {
   "cell_type": "code",
   "execution_count": 1,
   "id": "c0689a1f",
   "metadata": {},
   "outputs": [],
   "source": [
    "#Q1. Write a program to find all pairs of an integer array whose sum is equal to a given number?    "
   ]
  },
  {
   "cell_type": "code",
   "execution_count": 26,
   "id": "2c338b66",
   "metadata": {},
   "outputs": [],
   "source": [
    "import numpy as np"
   ]
  },
  {
   "cell_type": "code",
   "execution_count": 37,
   "id": "db4c5c0a",
   "metadata": {},
   "outputs": [
    {
     "name": "stdout",
     "output_type": "stream",
     "text": [
      "1 5 7 -1 7\n",
      "6\n"
     ]
    },
    {
     "data": {
      "text/plain": [
       "3"
      ]
     },
     "execution_count": 37,
     "metadata": {},
     "output_type": "execute_result"
    }
   ],
   "source": [
    "def count_pairs(arr,sum):\n",
    "    count = 0\n",
    "    for i in range(0,len(arr)):\n",
    "        for j in range(i+1,len(arr)):\n",
    "            if (arr[i]+arr[j] == sum):\n",
    "                count+=1\n",
    "    return count\n",
    "\n",
    "arr = np.array(list(map(int,input().split())))\n",
    "#n = len(arr)\n",
    "sum = int(input())\n",
    "count_pairs(arr,sum)"
   ]
  },
  {
   "cell_type": "code",
   "execution_count": 38,
   "id": "810e3df4",
   "metadata": {},
   "outputs": [],
   "source": [
    "#Q2. Write a program to reverse an array in place? In place means you cannot create a new array. You have to update the original array."
   ]
  },
  {
   "cell_type": "code",
   "execution_count": 39,
   "id": "3288fa46",
   "metadata": {},
   "outputs": [
    {
     "name": "stdout",
     "output_type": "stream",
     "text": [
      "1 2 3 4 5 6 7\n",
      "[7 6 5 4 3 2 1]\n"
     ]
    }
   ],
   "source": [
    "arr = np.array(list(map(int,input().split())))\n",
    "arr = arr[::-1]\n",
    "print(arr)"
   ]
  },
  {
   "cell_type": "code",
   "execution_count": 40,
   "id": "d92f7a0d",
   "metadata": {},
   "outputs": [],
   "source": [
    "#Q3. Write a program to check if two strings are a rotation of each other?"
   ]
  },
  {
   "cell_type": "code",
   "execution_count": 65,
   "id": "688c81b9",
   "metadata": {},
   "outputs": [],
   "source": [
    "def findStringRotation(s1,s2):\n",
    "    temp = ''\n",
    "    if len(s1)!=len(s2):\n",
    "        return False\n",
    "    else:\n",
    "        temp = s1+s2\n",
    "        if temp.count(s2)>=0:\n",
    "            return True\n",
    "        else:\n",
    "            return False"
   ]
  },
  {
   "cell_type": "code",
   "execution_count": 69,
   "id": "4c6b24f5",
   "metadata": {},
   "outputs": [
    {
     "data": {
      "text/plain": [
       "True"
      ]
     },
     "execution_count": 69,
     "metadata": {},
     "output_type": "execute_result"
    }
   ],
   "source": [
    "s1 = \"abcdef\"\n",
    "s2 = \"cdefab\"\n",
    "findStringRotation(s1,s2)"
   ]
  },
  {
   "cell_type": "code",
   "execution_count": 70,
   "id": "32ce4040",
   "metadata": {},
   "outputs": [],
   "source": [
    "#Q4. Write a program to print the first non-repeated character from a string?"
   ]
  },
  {
   "cell_type": "code",
   "execution_count": 93,
   "id": "b71ce05b",
   "metadata": {},
   "outputs": [],
   "source": [
    "def first_non_rep_chr(string1):\n",
    "    char = {}\n",
    "    for i in range(len(string1)):\n",
    "        key = string1[i]\n",
    "        if key not in char:\n",
    "            char[key] = 1\n",
    "        else:\n",
    "            char[key] = char[key]+1\n",
    "    \n",
    "    for key,value in char.items():\n",
    "        if value == 1:\n",
    "            print(key)\n",
    "            break"
   ]
  },
  {
   "cell_type": "code",
   "execution_count": 94,
   "id": "e2cde7e8",
   "metadata": {},
   "outputs": [
    {
     "name": "stdout",
     "output_type": "stream",
     "text": [
      "t\n"
     ]
    }
   ],
   "source": [
    "first_non_rep_chr('nithin')"
   ]
  },
  {
   "cell_type": "code",
   "execution_count": 95,
   "id": "ae682b04",
   "metadata": {},
   "outputs": [],
   "source": [
    "#Q5. Read about the Tower of Hanoi algorithm. Write a program to implement it."
   ]
  },
  {
   "cell_type": "code",
   "execution_count": 97,
   "id": "75fcd819",
   "metadata": {},
   "outputs": [],
   "source": [
    "def div1(x,y):\n",
    "    print ('%s/%s = %s' % (x, y, x/y))\n",
    "def div2(x,y):\n",
    "    print"
   ]
  },
  {
   "cell_type": "code",
   "execution_count": 99,
   "id": "3b1b215f",
   "metadata": {},
   "outputs": [
    {
     "name": "stdout",
     "output_type": "stream",
     "text": [
      "5.0/2.0 = 2.5\n"
     ]
    }
   ],
   "source": [
    "div1(5.,2.)"
   ]
  },
  {
   "cell_type": "code",
   "execution_count": 106,
   "id": "2a73eabf",
   "metadata": {},
   "outputs": [
    {
     "ename": "NameError",
     "evalue": "name 'ABC' is not defined",
     "output_type": "error",
     "traceback": [
      "\u001b[1;31m---------------------------------------------------------------------------\u001b[0m",
      "\u001b[1;31mNameError\u001b[0m                                 Traceback (most recent call last)",
      "\u001b[1;32m~\\AppData\\Local\\Temp/ipykernel_12752/1351647829.py\u001b[0m in \u001b[0;36m<module>\u001b[1;34m\u001b[0m\n\u001b[1;32m----> 1\u001b[1;33m \u001b[1;32mclass\u001b[0m \u001b[0mparent\u001b[0m\u001b[1;33m(\u001b[0m\u001b[0mABC\u001b[0m\u001b[1;33m)\u001b[0m\u001b[1;33m:\u001b[0m\u001b[1;33m\u001b[0m\u001b[1;33m\u001b[0m\u001b[0m\n\u001b[0m\u001b[0;32m      2\u001b[0m     \u001b[1;32mdef\u001b[0m \u001b[0mcommon\u001b[0m\u001b[1;33m(\u001b[0m\u001b[0mself\u001b[0m\u001b[1;33m)\u001b[0m\u001b[1;33m:\u001b[0m\u001b[1;33m\u001b[0m\u001b[1;33m\u001b[0m\u001b[0m\n\u001b[0;32m      3\u001b[0m         \u001b[0mprint\u001b[0m\u001b[1;33m(\u001b[0m\u001b[1;34m'Parent1'\u001b[0m\u001b[1;33m)\u001b[0m\u001b[1;33m\u001b[0m\u001b[1;33m\u001b[0m\u001b[0m\n\u001b[0;32m      4\u001b[0m     \u001b[1;33m@\u001b[0m\u001b[0mabstractmethod\u001b[0m\u001b[1;33m\u001b[0m\u001b[1;33m\u001b[0m\u001b[0m\n\u001b[0;32m      5\u001b[0m     \u001b[1;32mdef\u001b[0m \u001b[0mvary\u001b[0m\u001b[1;33m(\u001b[0m\u001b[0mself\u001b[0m\u001b[1;33m)\u001b[0m\u001b[1;33m:\u001b[0m\u001b[1;33m\u001b[0m\u001b[1;33m\u001b[0m\u001b[0m\n",
      "\u001b[1;31mNameError\u001b[0m: name 'ABC' is not defined"
     ]
    }
   ],
   "source": [
    "class parent(ABC):\n",
    "    def common(self):\n",
    "        print('Parent1')\n",
    "    @abstractmethod\n",
    "    def vary(self):\n",
    "        pass\n",
    "class child(parent):\n",
    "    def vary(self):\n",
    "        print('Child1')\n",
    "obj = child()\n",
    "obj.common()\n",
    "obj.vary()"
   ]
  },
  {
   "cell_type": "code",
   "execution_count": 4,
   "id": "11baee09",
   "metadata": {},
   "outputs": [
    {
     "name": "stdout",
     "output_type": "stream",
     "text": [
      "[[0.08630851 0.22094155 0.52018307]\n",
      " [0.55285749 0.34682563 0.94376393]\n",
      " [0.965024   0.71176796 0.41744004]]\n"
     ]
    }
   ],
   "source": [
    "import numpy as np\n",
    "samplearray = np.random.random_sample((3, 3))\n",
    "print(samplearray)"
   ]
  },
  {
   "cell_type": "code",
   "execution_count": 5,
   "id": "e01286e6",
   "metadata": {},
   "outputs": [
    {
     "name": "stdout",
     "output_type": "stream",
     "text": [
      "0    1\n",
      "1    2\n",
      "2    3\n",
      "3    4\n",
      "dtype: int64\n"
     ]
    }
   ],
   "source": [
    "import pandas as pd\n",
    "first_series = pd.Series([1, 2, 3, 4, 6])\n",
    "second_series = pd.Series([5, 6, 7, 8])\n",
    "a = first_series[-first_series.isin(second_series)]\n",
    "print(a)"
   ]
  },
  {
   "cell_type": "code",
   "execution_count": 6,
   "id": "c09c190e",
   "metadata": {},
   "outputs": [
    {
     "name": "stdout",
     "output_type": "stream",
     "text": [
      "    0   1   2\n",
      "0  20  22   3\n",
      "1  11  26  28\n",
      "2  25  14   2\n"
     ]
    }
   ],
   "source": [
    "sample_series = pd.Series(np.random.randint(1, 30, 9))\n",
    "data_frame = pd.DataFrame(sample_series.values.reshape(3,3))\n",
    "print(data_frame)"
   ]
  },
  {
   "cell_type": "code",
   "execution_count": 7,
   "id": "0650286c",
   "metadata": {},
   "outputs": [
    {
     "name": "stdout",
     "output_type": "stream",
     "text": [
      "Which row and column? 2\n"
     ]
    }
   ],
   "source": [
    "numbers = np.array([[5,8,3],\n",
    "                    [3,1,2],\n",
    "                    [5,7,8]])\n",
    "print(\"Which row and column?\",numbers[1][2])"
   ]
  },
  {
   "cell_type": "code",
   "execution_count": null,
   "id": "17fa1825",
   "metadata": {},
   "outputs": [],
   "source": []
  }
 ],
 "metadata": {
  "kernelspec": {
   "display_name": "Python 3 (ipykernel)",
   "language": "python",
   "name": "python3"
  },
  "language_info": {
   "codemirror_mode": {
    "name": "ipython",
    "version": 3
   },
   "file_extension": ".py",
   "mimetype": "text/x-python",
   "name": "python",
   "nbconvert_exporter": "python",
   "pygments_lexer": "ipython3",
   "version": "3.9.6"
  }
 },
 "nbformat": 4,
 "nbformat_minor": 5
}
