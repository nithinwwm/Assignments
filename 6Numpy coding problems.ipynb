{
 "cells": [
  {
   "cell_type": "code",
   "execution_count": 8,
   "id": "aa7fc1d8",
   "metadata": {},
   "outputs": [
    {
     "name": "stdout",
     "output_type": "stream",
     "text": [
      "[0. 0. 0. 0. 1. 0. 0. 0. 0. 0.]\n"
     ]
    }
   ],
   "source": [
    "#1. Create a null vector of size 10 but the fifth value which is 1.\n",
    "\n",
    "import numpy as np\n",
    "Null = np.zeros(10)\n",
    "Null[4] = 1\n",
    "print(Null)"
   ]
  },
  {
   "cell_type": "code",
   "execution_count": 3,
   "id": "169139ed",
   "metadata": {},
   "outputs": [
    {
     "name": "stdout",
     "output_type": "stream",
     "text": [
      "[10 11 12 13 14 15 16 17 18 19 20 21 22 23 24 25 26 27 28 29 30 31 32 33\n",
      " 34 35 36 37 38 39 40 41 42 43 44 45 46 47 48]\n"
     ]
    }
   ],
   "source": [
    "#2. Create a vector with values ranging from 10 to 49.\n",
    "X = np.arange(10,49)\n",
    "print(X)"
   ]
  },
  {
   "cell_type": "code",
   "execution_count": 4,
   "id": "3189593d",
   "metadata": {},
   "outputs": [
    {
     "data": {
      "text/plain": [
       "array([[1, 7, 0],\n",
       "       [0, 5, 6],\n",
       "       [2, 0, 6]])"
      ]
     },
     "execution_count": 4,
     "metadata": {},
     "output_type": "execute_result"
    }
   ],
   "source": [
    "#3. Create a 3x3 matrix with values ranging from 0 to 8.\n",
    "np.random.randint(0,8,(3,3))"
   ]
  },
  {
   "cell_type": "code",
   "execution_count": 40,
   "id": "7e166236",
   "metadata": {},
   "outputs": [
    {
     "data": {
      "text/plain": [
       "array([1, 2, 4])"
      ]
     },
     "execution_count": 40,
     "metadata": {},
     "output_type": "execute_result"
    }
   ],
   "source": [
    "#4. Find indices of non-zero elements from [1,2,0,0,4,0]\n",
    "\n",
    "a = np.array([1,2,0,0,4,0])\n",
    "a[a>0]"
   ]
  },
  {
   "cell_type": "code",
   "execution_count": 22,
   "id": "31421d3b",
   "metadata": {},
   "outputs": [
    {
     "name": "stdout",
     "output_type": "stream",
     "text": [
      "Maximum value : 0.9916176569882152\n",
      "Minimum value : 0.000525183644429994\n"
     ]
    }
   ],
   "source": [
    "#5. Create a 10x10 array with random values and find the minimum and maximum values.\n",
    "m = np.random.rand(10,10)\n",
    "print('Maximum value :',np.max(m))\n",
    "print('Minimum value :',np.min(m))"
   ]
  },
  {
   "cell_type": "code",
   "execution_count": 29,
   "id": "287f1edf",
   "metadata": {},
   "outputs": [
    {
     "name": "stdout",
     "output_type": "stream",
     "text": [
      "[[ 44  37 133]\n",
      " [ 95  71 136]\n",
      " [135  54 108]\n",
      " [ 61  13 100]\n",
      " [ 61 132   3]\n",
      " [  0 126 125]\n",
      " [  6  86  35]\n",
      " [ 12  33  40]\n",
      " [135 145 111]\n",
      " [120  56  17]]\n",
      "Mean : [66.9 75.3 80.8]\n"
     ]
    }
   ],
   "source": [
    "#6. Create a random vector of size 30 and find the mean value.\n",
    "vector = np.random.randint(0,150,(10,3))\n",
    "print(vector)\n",
    "print('Mean :',np.mean(vector,0))"
   ]
  },
  {
   "cell_type": "code",
   "execution_count": null,
   "id": "b13b163d",
   "metadata": {},
   "outputs": [],
   "source": []
  }
 ],
 "metadata": {
  "kernelspec": {
   "display_name": "Python 3 (ipykernel)",
   "language": "python",
   "name": "python3"
  },
  "language_info": {
   "codemirror_mode": {
    "name": "ipython",
    "version": 3
   },
   "file_extension": ".py",
   "mimetype": "text/x-python",
   "name": "python",
   "nbconvert_exporter": "python",
   "pygments_lexer": "ipython3",
   "version": "3.9.6"
  }
 },
 "nbformat": 4,
 "nbformat_minor": 5
}
