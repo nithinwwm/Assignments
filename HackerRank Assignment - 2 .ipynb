{
 "cells": [
  {
   "cell_type": "code",
   "execution_count": 4,
   "id": "452be90f",
   "metadata": {},
   "outputs": [
    {
     "name": "stdout",
     "output_type": "stream",
     "text": [
      "5\n",
      "[0, 1, 1, 8, 27]\n"
     ]
    }
   ],
   "source": [
    "#Questions\n",
    "#You have to generate a list of the first  fibonacci numbers,  being the first number. Then, apply the map function \n",
    "#and a lambda expression to cube each fibonacci number and print the list.\n",
    "#Solutions.\n",
    "\n",
    "cube = lambda x:x**3\n",
    "\n",
    "def fun1(n):\n",
    "    list1 = [0,1]\n",
    "    for i in range(2,n):\n",
    "        list1.append(list1[i-1]+list1[i-2])\n",
    "    return list1[0:n]\n",
    "n = int(input())\n",
    "print(list(map(cube,fun1(n))))"
   ]
  },
  {
   "cell_type": "code",
   "execution_count": 7,
   "id": "bf92ff13",
   "metadata": {},
   "outputs": [
    {
     "name": "stdout",
     "output_type": "stream",
     "text": [
      "1\n",
      "1\n",
      "1\n",
      "3\n",
      "[[0, 0, 0], [0, 0, 1], [0, 1, 0], [0, 1, 1], [1, 0, 0], [1, 0, 1], [1, 1, 0]]\n"
     ]
    }
   ],
   "source": [
    "#Question 2.\n",
    "#You are given three integers x,y and z  representing the dimensions of a cuboid along with an integer n. \n",
    "#Print a list of all possible coordinates given by (i,j,k) on a 3D grid where the sum of i+j+k is not equal to n.\n",
    "#Here, . Please use list comprehensions rather than multiple loops, as a learning exercise.\n",
    "#Solution.\n",
    "\n",
    "x = int(input())\n",
    "y = int(input())\n",
    "z = int(input())\n",
    "n = int(input())\n",
    "list1 = []\n",
    "for i in range(x+1):\n",
    "    for j in range(y+1):\n",
    "        for k in range(z+1):\n",
    "            if (i+j+k)==n:\n",
    "                continue\n",
    "            else:\n",
    "                list1.append([i,j,k])\n",
    "print(list1)"
   ]
  },
  {
   "cell_type": "code",
   "execution_count": null,
   "id": "64ac775c",
   "metadata": {},
   "outputs": [],
   "source": [
    "#Question 3.\n"
   ]
  }
 ],
 "metadata": {
  "kernelspec": {
   "display_name": "Python 3 (ipykernel)",
   "language": "python",
   "name": "python3"
  },
  "language_info": {
   "codemirror_mode": {
    "name": "ipython",
    "version": 3
   },
   "file_extension": ".py",
   "mimetype": "text/x-python",
   "name": "python",
   "nbconvert_exporter": "python",
   "pygments_lexer": "ipython3",
   "version": "3.9.6"
  }
 },
 "nbformat": 4,
 "nbformat_minor": 5
}
